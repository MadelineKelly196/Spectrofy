{
 "cells": [
  {
   "cell_type": "markdown",
   "id": "370c70dd-30c3-445e-a6fa-701ecde96d23",
   "metadata": {},
   "source": [
    "All methods require user authorization. Register the app at your [dashboard](https://developer.spotify.com/dashboard) to get the credentials. When creating the app, select \"Web API\" and set `http://localhost:8888/callback` as \"Redirect URI\" (as suggested in a [video](https://youtu.be/3RGm4jALukM) in the Spotipy [documentation](https://spotipy.readthedocs.io)). Then, before running the notebook, set the environment variables of the credentials (client ID and client secret) in your terminal:\n",
    "\n",
    "* `export SPOTIPY_CLIENT_ID=`...\n",
    "* `export SPOTIPY_CLIENT_SECRET=`..."
   ]
  },
  {
   "cell_type": "code",
   "execution_count": 1,
   "id": "8b30cb8c-1560-441d-948c-1ff27d32906f",
   "metadata": {},
   "outputs": [],
   "source": [
    "import spotipy\n",
    "from spotipy.oauth2 import SpotifyClientCredentials\n",
    "\n",
    "spotify = spotipy.Spotify(client_credentials_manager=SpotifyClientCredentials())"
   ]
  },
  {
   "cell_type": "markdown",
   "id": "2eedabd5-4646-4670-b016-f9202a11bae4",
   "metadata": {},
   "source": [
    "Tracks are obtained from playlists of different genres. You can get the ID of a playlist from its URL. Some of the genres are:\n",
    "\n",
    "* [pop](https://open.spotify.com/genre/0JQ5DAqbMKFEC4WFtoNRpw)\n",
    "* [blues](https://open.spotify.com/genre/0JQ5DAqbMKFQiK2EHwyjcU)\n",
    "* [country](https://open.spotify.com/genre/0JQ5DAqbMKFKLfwjuJMoNC)\n",
    "* [rock](https://open.spotify.com/genre/0JQ5DAqbMKFDXXwE9BDJAr)\n",
    "* [classical](https://open.spotify.com/genre/0JQ5DAqbMKFPrEiAOxgac3)\n",
    "* [reggae](https://open.spotify.com/genre/0JQ5DAqbMKFJKoGyUMo2hE)\n",
    "* [disco](https://open.spotify.com/genre/0JQ5DAqbMKFwT0m6BbKvGP) (it was under Dance/Electronic)\n",
    "* [hiphop](https://open.spotify.com/genre/0JQ5DAqbMKFQ00XGBls6ym)\n",
    "* [jazz](https://open.spotify.com/genre/0JQ5DAqbMKFAJ5xb0fwo9m)\n",
    "* [metal](https://open.spotify.com/genre/0JQ5DAqbMKFDkd668ypn6O)\n",
    "\n",
    "You can search for more genres in [Spotify](https://open.spotify.com/search)"
   ]
  },
  {
   "cell_type": "code",
   "execution_count": 2,
   "id": "c5fe6b8e-4cfb-4236-8cf9-05014e1bde0c",
   "metadata": {},
   "outputs": [],
   "source": [
    "playlists = { #TODO re-choose them with some criteria\n",
    "    'pop': ['37i9dQZF1DX6wfQutivYYr', '37i9dQZF1DX01NP73ErE8b'],\n",
    "    'blues': ['37i9dQZF1DXd9rSDyQguIk', '37i9dQZF1DXcu3QLJudo4X'],\n",
    "    'country': ['37i9dQZF1DWZBCPUIUs2iR', '37i9dQZF1DWTkxQvqMy4WW'],\n",
    "    'rock': ['37i9dQZF1DWViUlcvfltyZ', '37i9dQZF1DWW9tK1GiTdMf'],\n",
    "    'classical': ['37i9dQZF1DWWEJlAGA9gs0', '37i9dQZF1DWV0gynK7G6pD'],\n",
    "    'reggae': ['37i9dQZF1DWSiyIBdVQrkk', '37i9dQZF1DXbSbnqxMTGx9'],\n",
    "    'disco': ['37i9dQZF1DX3jWba5xiDhV', '37i9dQZF1DX1MUPbVKMgJE'],\n",
    "    'hiphop': ['37i9dQZF1DX14EWeH2Pwf3', '37i9dQZF1DWYQKKZPHGppf'],\n",
    "    'jazz': ['37i9dQZF1DX30D074EWuy7', '37i9dQZF1DX55mNLGdHona'],\n",
    "    'metal': ['37i9dQZF1DWWOaP4H0w5b0', '37i9dQZF1DXe6bgV3TmZOL']}"
   ]
  },
  {
   "cell_type": "code",
   "execution_count": 3,
   "id": "69591f46-4cf3-4c06-9f47-098168309bd2",
   "metadata": {},
   "outputs": [
    {
     "data": {
      "text/plain": [
       "1505"
      ]
     },
     "execution_count": 3,
     "metadata": {},
     "output_type": "execute_result"
    }
   ],
   "source": [
    "from contextlib import suppress\n",
    "\n",
    "#get features\n",
    "features_ = []\n",
    "for genre, playlists_ in playlists.items():\n",
    "    for playlist in playlists_:\n",
    "        tracks = []\n",
    "\n",
    "        #get track ids, preview urls and genres\n",
    "        for item in spotify.playlist_tracks(playlist)['items']:\n",
    "            with suppress(TypeError): #skips missing tracks\n",
    "                tracks.append({\n",
    "                    'id': item['track']['id'],\n",
    "                    'preview_url': item['track']['preview_url'],\n",
    "                    'genre': genre})\n",
    "\n",
    "        #get danceability values\n",
    "        ids = [track['id'] for track in tracks]\n",
    "        for track, features in zip(tracks, spotify.audio_features(ids)):\n",
    "            with suppress(TypeError, AssertionError): #skips missing and wrong features\n",
    "                assert track['id'] == features['id']\n",
    "                track['danceability'] = features['danceability']\n",
    "\n",
    "        features_.extend(tracks)\n",
    "len(features_)"
   ]
  },
  {
   "cell_type": "code",
   "execution_count": 4,
   "id": "efc3a451-4902-4d88-a54a-14835b511637",
   "metadata": {},
   "outputs": [
    {
     "data": {
      "text/html": [
       "<div>\n",
       "<style scoped>\n",
       "    .dataframe tbody tr th:only-of-type {\n",
       "        vertical-align: middle;\n",
       "    }\n",
       "\n",
       "    .dataframe tbody tr th {\n",
       "        vertical-align: top;\n",
       "    }\n",
       "\n",
       "    .dataframe thead th {\n",
       "        text-align: right;\n",
       "    }\n",
       "</style>\n",
       "<table border=\"1\" class=\"dataframe\">\n",
       "  <thead>\n",
       "    <tr style=\"text-align: right;\">\n",
       "      <th></th>\n",
       "      <th>id</th>\n",
       "      <th>preview_url</th>\n",
       "      <th>genre</th>\n",
       "      <th>danceability</th>\n",
       "    </tr>\n",
       "  </thead>\n",
       "  <tbody>\n",
       "    <tr>\n",
       "      <th>956</th>\n",
       "      <td>35QTv0RV3hMqSDAYeWsQaf</td>\n",
       "      <td>https://p.scdn.co/mp3-preview/4194cd2c8720672b...</td>\n",
       "      <td>classical</td>\n",
       "      <td>0.324</td>\n",
       "    </tr>\n",
       "    <tr>\n",
       "      <th>957</th>\n",
       "      <td>4YAtqSH9gdzlNhVMUVmZMy</td>\n",
       "      <td>https://p.scdn.co/mp3-preview/9c0572e96bc7e099...</td>\n",
       "      <td>blues</td>\n",
       "      <td>0.248</td>\n",
       "    </tr>\n",
       "  </tbody>\n",
       "</table>\n",
       "</div>"
      ],
      "text/plain": [
       "                         id  \\\n",
       "956  35QTv0RV3hMqSDAYeWsQaf   \n",
       "957  4YAtqSH9gdzlNhVMUVmZMy   \n",
       "\n",
       "                                           preview_url      genre  \\\n",
       "956  https://p.scdn.co/mp3-preview/4194cd2c8720672b...  classical   \n",
       "957  https://p.scdn.co/mp3-preview/9c0572e96bc7e099...      blues   \n",
       "\n",
       "     danceability  \n",
       "956         0.324  \n",
       "957         0.248  "
      ]
     },
     "execution_count": 4,
     "metadata": {},
     "output_type": "execute_result"
    }
   ],
   "source": [
    "import os\n",
    "import pandas as pd\n",
    "\n",
    "#save features\n",
    "data_dir = 'data'\n",
    "os.makedirs(data_dir, exist_ok=True)\n",
    "features_path = os.path.join(data_dir, 'features.csv')\n",
    "features = pd.DataFrame(features_).dropna().drop_duplicates('id', ignore_index=True)\n",
    "features = features.sample(frac=1, random_state=42).to_csv(features_path, index=False)\n",
    "features = pd.read_csv(features_path)\n",
    "features.tail(2)"
   ]
  },
  {
   "cell_type": "code",
   "execution_count": 5,
   "id": "c63bc8f6-386c-4dc7-aa81-337819b73bbd",
   "metadata": {},
   "outputs": [
    {
     "name": "stdout",
     "output_type": "stream",
     "text": [
      ".."
     ]
    }
   ],
   "source": [
    "from concurrent.futures import ThreadPoolExecutor\n",
    "from urllib.request import urlretrieve\n",
    "\n",
    "audio_dir = os.path.join(data_dir, 'audio')\n",
    "os.makedirs(audio_dir, exist_ok=True)\n",
    "\n",
    "def download(row):\n",
    "    audio_path = os.path.join(audio_dir, f\"{row['id']}.mp3\")\n",
    "    urlretrieve(row['preview_url'], audio_path)\n",
    "    print('.', end='')\n",
    "\n",
    "#download previews\n",
    "with ThreadPoolExecutor() as executor:\n",
    "    errors = executor.map(download, features[-2:].iloc) #TODO use all data after debugging\n",
    "next(errors) #raises an error if any"
   ]
  },
  {
   "cell_type": "code",
   "execution_count": 6,
   "id": "e4c9dc99-d5fa-431f-954c-bcb3155995a6",
   "metadata": {},
   "outputs": [],
   "source": [
    "from torch.utils.data import Dataset\n",
    "from PIL import Image\n",
    "\n",
    "class SpectrogramsDataset(Dataset):\n",
    "\n",
    "    def __init__(self, spec_dir, features_path, target='genre', transform=None):\n",
    "        self.spec_dir = spec_dir\n",
    "        self.features = pd.read_csv(features_path)[-2:] #TODO use all features after debugging\n",
    "        self.target = target\n",
    "        self.transform = transform\n",
    "\n",
    "    def __len__(self):\n",
    "        return len(self.features)\n",
    "\n",
    "    def __getitem__(self, i):\n",
    "        row = self.features.iloc[i]\n",
    "        spec_path = os.path.join(self.spec_dir, f\"{row['id']}.png\")\n",
    "        spec = Image.open(spec_path) #if ResourceWarning see torchvision.datasets.ImageFolder\n",
    "        spec = spec.convert('RGB') #as torchvision.datasets.ImageFolder\n",
    "        if self.transform:\n",
    "            spec = self.transform(spec)\n",
    "        label = row[self.target] #TODO if target=='genre' return class index instead (create self.classes as in ImageFolder)\n",
    "        return spec, label"
   ]
  },
  {
   "cell_type": "markdown",
   "id": "80f01303-4970-4c1b-847c-ecff3c4bbef3",
   "metadata": {},
   "source": [
    "# TODO\n",
    "\n",
    "* spectrograms\n",
    "* TODOs\n",
    "* git LFS"
   ]
  }
 ],
 "metadata": {
  "kernelspec": {
   "display_name": "Python 3 (ipykernel)",
   "language": "python",
   "name": "python3"
  },
  "language_info": {
   "codemirror_mode": {
    "name": "ipython",
    "version": 3
   },
   "file_extension": ".py",
   "mimetype": "text/x-python",
   "name": "python",
   "nbconvert_exporter": "python",
   "pygments_lexer": "ipython3",
   "version": "3.11.5"
  }
 },
 "nbformat": 4,
 "nbformat_minor": 5
}
