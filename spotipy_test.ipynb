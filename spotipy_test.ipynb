{
 "cells": [
  {
   "cell_type": "markdown",
   "id": "370c70dd-30c3-445e-a6fa-701ecde96d23",
   "metadata": {},
   "source": [
    "All methods require user authorization. Register the app at your [dashboard](https://developer.spotify.com/dashboard) to get the credentials. When creating the app, select \"Web API\" and set `http://localhost:8888/callback` as \"Redirect URI\" (as suggested in a [video](https://youtu.be/3RGm4jALukM) in the Spotipy [documentation](https://spotipy.readthedocs.io)). Then set the environment variables of the credentials (client ID and client secret) in your terminal:\n",
    "\n",
    "* `export SPOTIPY_CLIENT_ID=`...\n",
    "* `export SPOTIPY_CLIENT_SECRET=`..."
   ]
  },
  {
   "cell_type": "code",
   "execution_count": 11,
   "id": "8b30cb8c-1560-441d-948c-1ff27d32906f",
   "metadata": {},
   "outputs": [],
   "source": [
    "import spotipy\n",
    "from spotipy.oauth2 import SpotifyClientCredentials\n",
    "\n",
    "spotify = spotipy.Spotify(client_credentials_manager=SpotifyClientCredentials())"
   ]
  },
  {
   "cell_type": "markdown",
   "id": "2eedabd5-4646-4670-b016-f9202a11bae4",
   "metadata": {},
   "source": [
    "Tracks are obtained from playlists of different genres. You can get the ID of a playlist from its URL. Some of the genres are:\n",
    "\n",
    "* [pop](https://open.spotify.com/genre/0JQ5DAqbMKFEC4WFtoNRpw)\n",
    "* [blues](https://open.spotify.com/genre/0JQ5DAqbMKFQiK2EHwyjcU)\n",
    "* [country](https://open.spotify.com/genre/0JQ5DAqbMKFKLfwjuJMoNC)\n",
    "* [rock](https://open.spotify.com/genre/0JQ5DAqbMKFDXXwE9BDJAr)\n",
    "* [classical](https://open.spotify.com/genre/0JQ5DAqbMKFPrEiAOxgac3)\n",
    "* [reggae](https://open.spotify.com/genre/0JQ5DAqbMKFJKoGyUMo2hE)\n",
    "* [disco](https://open.spotify.com/genre/0JQ5DAqbMKFwT0m6BbKvGP) (it was under Dance/Electronic)\n",
    "* [hiphop](https://open.spotify.com/genre/0JQ5DAqbMKFQ00XGBls6ym)\n",
    "* [jazz](https://open.spotify.com/genre/0JQ5DAqbMKFAJ5xb0fwo9m)\n",
    "* [metal](https://open.spotify.com/genre/0JQ5DAqbMKFDkd668ypn6O)\n",
    "\n",
    "You can search for more genres in [Spotify](https://open.spotify.com/search)"
   ]
  },
  {
   "cell_type": "code",
   "execution_count": 12,
   "id": "c5fe6b8e-4cfb-4236-8cf9-05014e1bde0c",
   "metadata": {},
   "outputs": [],
   "source": [
    "playlists = { #TODO re-choose them with some criteria\n",
    "    'pop': ['37i9dQZF1DX6wfQutivYYr', '37i9dQZF1DX01NP73ErE8b'],\n",
    "    'blues': ['37i9dQZF1DXd9rSDyQguIk', '37i9dQZF1DXcu3QLJudo4X'],\n",
    "    'country': ['37i9dQZF1DWZBCPUIUs2iR', '37i9dQZF1DWTkxQvqMy4WW'],\n",
    "    'rock': ['37i9dQZF1DWViUlcvfltyZ', '37i9dQZF1DWW9tK1GiTdMf'],\n",
    "    'classical': ['37i9dQZF1DWWEJlAGA9gs0', '37i9dQZF1DWV0gynK7G6pD'],\n",
    "    'reggae': ['37i9dQZF1DWSiyIBdVQrkk', '37i9dQZF1DXbSbnqxMTGx9'],\n",
    "    'disco': ['37i9dQZF1DX3jWba5xiDhV', '37i9dQZF1DX1MUPbVKMgJE'],\n",
    "    'hiphop': ['37i9dQZF1DX14EWeH2Pwf3', '37i9dQZF1DWYQKKZPHGppf'],\n",
    "    'jazz': ['37i9dQZF1DX30D074EWuy7', '37i9dQZF1DX55mNLGdHona'],\n",
    "    'metal': ['37i9dQZF1DWWOaP4H0w5b0', '37i9dQZF1DXe6bgV3TmZOL']}"
   ]
  },
  {
   "cell_type": "markdown",
   "id": "565128f8-975a-484f-98b4-07a5ff4a23d7",
   "metadata": {},
   "source": [
    "# TODO\n",
    "\n",
    "* leggi doc per sapere se c'è altro modo di ottenere tracks (rispetto playlist). Ma sappi che unico modo conveniente per ottenere anche generi è questo\n",
    "* POi continua a sistemare qua sotto\n",
    "* Serve anche scremare brani con stesso ID"
   ]
  },
  {
   "cell_type": "code",
   "execution_count": 6,
   "id": "69591f46-4cf3-4c06-9f47-098168309bd2",
   "metadata": {},
   "outputs": [],
   "source": [
    "res = spotify.playlist_tracks(playlists['pop'][0])"
   ]
  },
  {
   "cell_type": "code",
   "execution_count": 7,
   "id": "6aa840a2-00c9-4487-b098-2a39cee6bfaa",
   "metadata": {},
   "outputs": [
    {
     "data": {
      "text/plain": [
       "38"
      ]
     },
     "execution_count": 7,
     "metadata": {},
     "output_type": "execute_result"
    }
   ],
   "source": [
    "previews = {}\n",
    "for item in res['items']:\n",
    "    if item['track']['preview_url']:\n",
    "        previews[item['track']['id']] = item['track']['preview_url']\n",
    "len(previews)\n",
    "#or maybe other solutions.. study doc..."
   ]
  },
  {
   "cell_type": "code",
   "execution_count": 8,
   "id": "6290fda6-58ed-4f33-b983-3383f2a2a724",
   "metadata": {},
   "outputs": [
    {
     "data": {
      "text/plain": [
       "50"
      ]
     },
     "execution_count": 8,
     "metadata": {},
     "output_type": "execute_result"
    }
   ],
   "source": [
    "len(res['items']) #most of the previews are available"
   ]
  },
  {
   "cell_type": "code",
   "execution_count": 9,
   "id": "23b0cc78-d840-48f4-a03b-a988f1beab72",
   "metadata": {},
   "outputs": [
    {
     "data": {
      "text/plain": [
       "{'danceability': 0.695,\n",
       " 'energy': 0.689,\n",
       " 'key': 11,\n",
       " 'loudness': -4.941,\n",
       " 'mode': 0,\n",
       " 'speechiness': 0.0443,\n",
       " 'acousticness': 0.158,\n",
       " 'instrumentalness': 2.17e-05,\n",
       " 'liveness': 0.0963,\n",
       " 'valence': 0.366,\n",
       " 'tempo': 136.962,\n",
       " 'type': 'audio_features',\n",
       " 'id': '2gGq8fqoGuKpCjuV7p2dd3',\n",
       " 'uri': 'spotify:track:2gGq8fqoGuKpCjuV7p2dd3',\n",
       " 'track_href': 'https://api.spotify.com/v1/tracks/2gGq8fqoGuKpCjuV7p2dd3',\n",
       " 'analysis_url': 'https://api.spotify.com/v1/audio-analysis/2gGq8fqoGuKpCjuV7p2dd3',\n",
       " 'duration_ms': 172320,\n",
       " 'time_signature': 4}"
      ]
     },
     "execution_count": 9,
     "metadata": {},
     "output_type": "execute_result"
    }
   ],
   "source": [
    "features = spotify.audio_features(tracks=previews.keys())\n",
    "features[0]"
   ]
  },
  {
   "cell_type": "code",
   "execution_count": null,
   "id": "61926c92-a1a0-4c0c-9320-11a49d85040e",
   "metadata": {},
   "outputs": [],
   "source": []
  }
 ],
 "metadata": {
  "kernelspec": {
   "display_name": "Python 3 (ipykernel)",
   "language": "python",
   "name": "python3"
  },
  "language_info": {
   "codemirror_mode": {
    "name": "ipython",
    "version": 3
   },
   "file_extension": ".py",
   "mimetype": "text/x-python",
   "name": "python",
   "nbconvert_exporter": "python",
   "pygments_lexer": "ipython3",
   "version": "3.11.5"
  }
 },
 "nbformat": 4,
 "nbformat_minor": 5
}
