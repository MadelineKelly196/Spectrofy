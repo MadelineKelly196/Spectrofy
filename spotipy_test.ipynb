{
 "cells": [
  {
   "cell_type": "markdown",
   "id": "370c70dd-30c3-445e-a6fa-701ecde96d23",
   "metadata": {},
   "source": [
    "[Spotipy doc](https://spotipy.readthedocs.io)\n",
    "\n",
    "* `export SPOTIPY_CLIENT_ID=`...\n",
    "* `export SPOTIPY_CLIENT_SECRET=`..."
   ]
  },
  {
   "cell_type": "code",
   "execution_count": 1,
   "id": "8b30cb8c-1560-441d-948c-1ff27d32906f",
   "metadata": {},
   "outputs": [],
   "source": [
    "import spotipy\n",
    "from spotipy.oauth2 import SpotifyClientCredentials\n",
    "\n",
    "spotify = spotipy.Spotify(client_credentials_manager=SpotifyClientCredentials())"
   ]
  },
  {
   "cell_type": "code",
   "execution_count": 2,
   "id": "c5fe6b8e-4cfb-4236-8cf9-05014e1bde0c",
   "metadata": {},
   "outputs": [],
   "source": [
    "playlists = [ #gathered manually from spotify app (about 50 preview each, but maybe with duplicates)\n",
    "    '37i9dQZF1DWWY64wDtewQt',\n",
    "    '37i9dQZF1DWYCIYGXn56uz',\n",
    "    '37i9dQZF1DX6wfQutivYYr',\n",
    "    '37i9dQZF1DWUJcZpQ1337Z']"
   ]
  },
  {
   "cell_type": "code",
   "execution_count": 3,
   "id": "69591f46-4cf3-4c06-9f47-098168309bd2",
   "metadata": {},
   "outputs": [],
   "source": [
    "res = spotify.playlist_tracks(playlists[0])"
   ]
  },
  {
   "cell_type": "code",
   "execution_count": 4,
   "id": "6aa840a2-00c9-4487-b098-2a39cee6bfaa",
   "metadata": {},
   "outputs": [
    {
     "data": {
      "text/plain": [
       "97"
      ]
     },
     "execution_count": 4,
     "metadata": {},
     "output_type": "execute_result"
    }
   ],
   "source": [
    "previews = {}\n",
    "for item in res['items']:\n",
    "    if item['track']['preview_url']:\n",
    "        previews[item['track']['id']] = item['track']['preview_url']\n",
    "len(previews)\n",
    "#or maybe other solutions.. study doc..."
   ]
  },
  {
   "cell_type": "code",
   "execution_count": 5,
   "id": "6290fda6-58ed-4f33-b983-3383f2a2a724",
   "metadata": {},
   "outputs": [
    {
     "data": {
      "text/plain": [
       "98"
      ]
     },
     "execution_count": 5,
     "metadata": {},
     "output_type": "execute_result"
    }
   ],
   "source": [
    "len(res['items']) #most of the previews are available"
   ]
  },
  {
   "cell_type": "code",
   "execution_count": 6,
   "id": "23b0cc78-d840-48f4-a03b-a988f1beab72",
   "metadata": {},
   "outputs": [
    {
     "data": {
      "text/plain": [
       "{'danceability': 0.613,\n",
       " 'energy': 0.81,\n",
       " 'key': 1,\n",
       " 'loudness': -6.16,\n",
       " 'mode': 1,\n",
       " 'speechiness': 0.488,\n",
       " 'acousticness': 0.832,\n",
       " 'instrumentalness': 0.899,\n",
       " 'liveness': 0.137,\n",
       " 'valence': 0.686,\n",
       " 'tempo': 150.251,\n",
       " 'type': 'audio_features',\n",
       " 'id': '0EqczV3o6fwksegAavIHpX',\n",
       " 'uri': 'spotify:track:0EqczV3o6fwksegAavIHpX',\n",
       " 'track_href': 'https://api.spotify.com/v1/tracks/0EqczV3o6fwksegAavIHpX',\n",
       " 'analysis_url': 'https://api.spotify.com/v1/audio-analysis/0EqczV3o6fwksegAavIHpX',\n",
       " 'duration_ms': 116104,\n",
       " 'time_signature': 4}"
      ]
     },
     "execution_count": 6,
     "metadata": {},
     "output_type": "execute_result"
    }
   ],
   "source": [
    "features = spotify.audio_features(tracks=previews.keys())\n",
    "features[0]"
   ]
  },
  {
   "cell_type": "markdown",
   "id": "2eedabd5-4646-4670-b016-f9202a11bae4",
   "metadata": {},
   "source": [
    "Quick note on genres: tracks have no genre, only artists and albums have genres, but on album the genre list was always empty on my tests. [This](https://community.spotify.com/t5/Spotify-for-Developers/Getting-album-not-getting-genre/m-p/5161377/highlight/true#M2107) confirms my tests. Moreover, getting genre from artists is a bad solution: there are too many different genres (eg.: memphis phonk, phonk brasileiro, drift phonk, gym phonk etc.) and a lot of tracks have more artist and artists have more than one genre. A better solution for our case would be to insert a genre manually (just chose playlists by this genre so that it's known for the tracks of each playlist)"
   ]
  },
  {
   "cell_type": "code",
   "execution_count": null,
   "id": "b6f412e8-4d10-4e6c-b0c0-78bbbed21320",
   "metadata": {},
   "outputs": [],
   "source": []
  }
 ],
 "metadata": {
  "kernelspec": {
   "display_name": "Python 3 (ipykernel)",
   "language": "python",
   "name": "python3"
  },
  "language_info": {
   "codemirror_mode": {
    "name": "ipython",
    "version": 3
   },
   "file_extension": ".py",
   "mimetype": "text/x-python",
   "name": "python",
   "nbconvert_exporter": "python",
   "pygments_lexer": "ipython3",
   "version": "3.11.5"
  }
 },
 "nbformat": 4,
 "nbformat_minor": 5
}
