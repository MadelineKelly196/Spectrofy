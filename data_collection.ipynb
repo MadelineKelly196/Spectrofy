{
 "cells": [
  {
   "cell_type": "markdown",
   "id": "370c70dd-30c3-445e-a6fa-701ecde96d23",
   "metadata": {},
   "source": [
    "All methods require user authorization. Register the app at your [dashboard](https://developer.spotify.com/dashboard) to get the credentials. When creating the app, select \"Web API\" and set `http://localhost:8888/callback` as \"Redirect URI\" (as suggested in a [video](https://youtu.be/3RGm4jALukM) in the Spotipy [documentation](https://spotipy.readthedocs.io)). Then, before running the notebook, set the environment variables of the credentials (client ID and client secret) in your terminal:\n",
    "\n",
    "* `export SPOTIPY_CLIENT_ID=`...\n",
    "* `export SPOTIPY_CLIENT_SECRET=`..."
   ]
  },
  {
   "cell_type": "code",
   "execution_count": null,
   "id": "8b30cb8c-1560-441d-948c-1ff27d32906f",
   "metadata": {},
   "outputs": [],
   "source": [
    "import spotipy\n",
    "from spotipy.oauth2 import SpotifyClientCredentials\n",
    "\n",
    "spotify = spotipy.Spotify(client_credentials_manager=SpotifyClientCredentials())"
   ]
  },
  {
   "cell_type": "markdown",
   "id": "2eedabd5-4646-4670-b016-f9202a11bae4",
   "metadata": {},
   "source": [
    "Tracks are obtained from playlists of different genres. You can get the ID of a playlist from its URL. Some of the genres are:\n",
    "\n",
    "* [pop](https://open.spotify.com/genre/0JQ5DAqbMKFEC4WFtoNRpw)\n",
    "* [blues](https://open.spotify.com/genre/0JQ5DAqbMKFQiK2EHwyjcU)\n",
    "* [country](https://open.spotify.com/genre/0JQ5DAqbMKFKLfwjuJMoNC)\n",
    "* [rock](https://open.spotify.com/genre/0JQ5DAqbMKFDXXwE9BDJAr)\n",
    "* [classical](https://open.spotify.com/genre/0JQ5DAqbMKFPrEiAOxgac3)\n",
    "* [reggae](https://open.spotify.com/genre/0JQ5DAqbMKFJKoGyUMo2hE)\n",
    "* [disco](https://open.spotify.com/genre/0JQ5DAqbMKFwT0m6BbKvGP) (it was under Dance/Electronic)\n",
    "* [hiphop](https://open.spotify.com/genre/0JQ5DAqbMKFQ00XGBls6ym)\n",
    "* [jazz](https://open.spotify.com/genre/0JQ5DAqbMKFAJ5xb0fwo9m)\n",
    "* [metal](https://open.spotify.com/genre/0JQ5DAqbMKFDkd668ypn6O)\n",
    "\n",
    "You can search for more genres in [Spotify](https://open.spotify.com/search)"
   ]
  },
  {
   "cell_type": "code",
   "execution_count": null,
   "id": "c5fe6b8e-4cfb-4236-8cf9-05014e1bde0c",
   "metadata": {},
   "outputs": [],
   "source": [
    "playlists = { #TODO re-choose them with some criteria\n",
    "    'pop': ['37i9dQZF1DX6wfQutivYYr', '37i9dQZF1DX01NP73ErE8b'],\n",
    "    'blues': ['37i9dQZF1DXd9rSDyQguIk', '37i9dQZF1DXcu3QLJudo4X'],\n",
    "    'country': ['37i9dQZF1DWZBCPUIUs2iR', '37i9dQZF1DWTkxQvqMy4WW'],\n",
    "    'rock': ['37i9dQZF1DWViUlcvfltyZ', '37i9dQZF1DWW9tK1GiTdMf'],\n",
    "    'classical': ['37i9dQZF1DWWEJlAGA9gs0', '37i9dQZF1DWV0gynK7G6pD'],\n",
    "    'reggae': ['37i9dQZF1DWSiyIBdVQrkk', '37i9dQZF1DXbSbnqxMTGx9'],\n",
    "    'disco': ['37i9dQZF1DX3jWba5xiDhV', '37i9dQZF1DX1MUPbVKMgJE'],\n",
    "    'hiphop': ['37i9dQZF1DX14EWeH2Pwf3', '37i9dQZF1DWYQKKZPHGppf'],\n",
    "    'jazz': ['37i9dQZF1DX30D074EWuy7', '37i9dQZF1DX55mNLGdHona'],\n",
    "    'metal': ['37i9dQZF1DWWOaP4H0w5b0', '37i9dQZF1DXe6bgV3TmZOL']}"
   ]
  },
  {
   "cell_type": "code",
   "execution_count": null,
   "id": "69591f46-4cf3-4c06-9f47-098168309bd2",
   "metadata": {},
   "outputs": [],
   "source": [
    "from contextlib import suppress\n",
    "\n",
    "#get features\n",
    "features_ = []\n",
    "for genre, playlists_ in playlists.items():\n",
    "    for playlist in playlists_:\n",
    "        tracks = []\n",
    "\n",
    "        #get track ids, preview urls and genres\n",
    "        for item in spotify.playlist_tracks(playlist)['items']:\n",
    "            with suppress(TypeError): #skips missing tracks\n",
    "                tracks.append({\n",
    "                    'id': item['track']['id'],\n",
    "                    'preview_url': item['track']['preview_url'],\n",
    "                    'genre': genre})\n",
    "\n",
    "        #get danceability values\n",
    "        ids = [track['id'] for track in tracks]\n",
    "        for track, features in zip(tracks, spotify.audio_features(ids)):\n",
    "            with suppress(TypeError, AssertionError): #skips missing and wrong features\n",
    "                assert track['id'] == features['id']\n",
    "                track['danceability'] = features['danceability']\n",
    "\n",
    "        features_.extend(tracks)\n",
    "        print('.', end='')\n",
    "len(features_)"
   ]
  },
  {
   "cell_type": "code",
   "execution_count": null,
   "id": "efc3a451-4902-4d88-a54a-14835b511637",
   "metadata": {},
   "outputs": [],
   "source": [
    "import os\n",
    "import pandas as pd\n",
    "\n",
    "#create data directory\n",
    "data_dir = 'data'\n",
    "os.makedirs(data_dir, exist_ok=True)\n",
    "\n",
    "#save features\n",
    "features_path = os.path.join(data_dir, 'features.csv')\n",
    "features = pd.DataFrame(features_).dropna().drop_duplicates('id', ignore_index=True)\n",
    "features.sample(frac=0.01, random_state=42).to_csv(features_path, index=False) #TODO frac=1\n",
    "features = pd.read_csv(features_path)\n",
    "features.tail(2)"
   ]
  },
  {
   "cell_type": "code",
   "execution_count": null,
   "id": "c63bc8f6-386c-4dc7-aa81-337819b73bbd",
   "metadata": {},
   "outputs": [],
   "source": [
    "from urllib.request import urlretrieve\n",
    "from concurrent.futures import ThreadPoolExecutor\n",
    "\n",
    "#create audio directory\n",
    "audio_dir = os.path.join(data_dir, 'audio')\n",
    "os.makedirs(audio_dir, exist_ok=True)\n",
    "\n",
    "def download(row):\n",
    "    audio_path = os.path.join(audio_dir, f\"{row['id']}.mp3\")\n",
    "    urlretrieve(row['preview_url'], audio_path)\n",
    "    if row.name % 10 == 0:\n",
    "        print('.', end='')\n",
    "\n",
    "#download previews\n",
    "with ThreadPoolExecutor() as executor:\n",
    "    for result in executor.map(download, features.iloc):\n",
    "        pass #raises errors if any"
   ]
  },
  {
   "cell_type": "code",
   "execution_count": null,
   "id": "55f696a5-2d6e-4cfb-952a-375ff53a7cec",
   "metadata": {},
   "outputs": [],
   "source": [
    "from joblib import delayed, Parallel #ProcessPoolExecutor not working with librosa\n",
    "from utils.preprocessing import audio_to_spec\n",
    "import importlib; from utils import preprocessing; importlib.reload(preprocessing) #for debugging purposes\n",
    "\n",
    "#create spectrogram directory\n",
    "spec_dir = os.path.join(data_dir, 'spec')\n",
    "os.makedirs(spec_dir, exist_ok=True)\n",
    "\n",
    "@delayed\n",
    "def get_spec(id):\n",
    "    audio_path = os.path.join(audio_dir, f\"{id}.mp3\")\n",
    "    spec_path = os.path.join(spec_dir, f\"{id}.png\")\n",
    "    audio_to_spec(audio_path).save(spec_path)\n",
    "\n",
    "#compute and save spectrograms\n",
    "with Parallel(n_jobs=-1, verbose=2) as parallel:\n",
    "    parallel(get_spec(id) for id in features['id'])"
   ]
  },
  {
   "cell_type": "code",
   "execution_count": null,
   "id": "22ac6902-7b61-43d3-9716-fff897686119",
   "metadata": {},
   "outputs": [],
   "source": [
    "from utils.dataset import SpectrogramsDataset\n",
    "import numpy as np\n",
    "import matplotlib.pyplot as plt\n",
    "from utils import dataset; importlib.reload(dataset) #for debugging purposes\n",
    "\n",
    "i = -1\n",
    "\n",
    "#test genre dataset\n",
    "dataset = SpectrogramsDataset(spec_dir, features_path, target='genre')\n",
    "spec, label = dataset[i]\n",
    "assert dataset.classes[label] == features.iloc[i]['genre']\n",
    "\n",
    "#test danceability dataset\n",
    "dataset = SpectrogramsDataset(spec_dir, features_path, target='danceability')\n",
    "spec, label = dataset[i]\n",
    "assert label == features.iloc[i]['danceability'].astype(np.float32)\n",
    "\n",
    "plt.imshow(spec)\n",
    "features.iloc[[i]]"
   ]
  },
  {
   "cell_type": "code",
   "execution_count": null,
   "id": "1f446c69-cfc3-4606-8c62-e106e2eee4ef",
   "metadata": {},
   "outputs": [],
   "source": []
  }
 ],
 "metadata": {
  "kernelspec": {
   "display_name": "Python 3 (ipykernel)",
   "language": "python",
   "name": "python3"
  },
  "language_info": {
   "codemirror_mode": {
    "name": "ipython",
    "version": 3
   },
   "file_extension": ".py",
   "mimetype": "text/x-python",
   "name": "python",
   "nbconvert_exporter": "python",
   "pygments_lexer": "ipython3",
   "version": "3.11.5"
  }
 },
 "nbformat": 4,
 "nbformat_minor": 5
}
