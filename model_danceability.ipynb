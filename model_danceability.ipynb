{
 "cells": [
  {
   "cell_type": "code",
   "execution_count": 1,
   "id": "ff897a7d-45b4-4961-aff6-1c12981fc461",
   "metadata": {},
   "outputs": [
    {
     "data": {
      "text/plain": [
       "(759, 95, 94)"
      ]
     },
     "execution_count": 1,
     "metadata": {},
     "output_type": "execute_result"
    }
   ],
   "source": [
    "import os\n",
    "from utils.dataset import SpectrogramsDataset\n",
    "from utils.preprocessing import transform\n",
    "from torch.utils.data import random_split\n",
    "from torch import Generator\n",
    "\n",
    "#split dataset deterministically\n",
    "spec_dir = os.path.join('data', 'spec')\n",
    "features_path = os.path.join('data', 'features.csv')\n",
    "dataset = SpectrogramsDataset(spec_dir, features_path, transform, target='danceability')\n",
    "trainset, valset, testset = random_split(dataset, [0.8, 0.1, 0.1], Generator().manual_seed(42))\n",
    "len(trainset), len(valset), len(testset)"
   ]
  },
  {
   "cell_type": "code",
   "execution_count": 2,
   "id": "e687f30e-9523-4da5-b8cc-175d33fb13c7",
   "metadata": {},
   "outputs": [
    {
     "data": {
      "text/plain": [
       "torch.Size([4, 3, 224, 224])"
      ]
     },
     "execution_count": 2,
     "metadata": {},
     "output_type": "execute_result"
    }
   ],
   "source": [
    "from torch.utils.data import DataLoader\n",
    "\n",
    "#configure batches\n",
    "kwargs = {\n",
    "    'batch_size': 4, #TODO tune with Neptune\n",
    "    'num_workers': 2,\n",
    "    'pin_memory': True,\n",
    "    'drop_last': True}\n",
    "train_loader = DataLoader(trainset, shuffle=True, persistent_workers=True, **kwargs)\n",
    "val_loader = DataLoader(valset, persistent_workers=True, **kwargs)\n",
    "test_loader = DataLoader(testset, **kwargs)\n",
    "next(iter(train_loader))[0].shape"
   ]
  },
  {
   "cell_type": "markdown",
   "id": "8271d88c-9d45-40fd-98da-ab4128c11b4c",
   "metadata": {},
   "source": [
    "# TODO\n",
    "\n",
    "* Adjust below\n",
    "    * [Image classification example](https://pytorch.org/tutorials/beginner/blitz/cifar10_tutorial.html)\n",
    "    * [Tabular regression example](https://machinelearningmastery.com/building-a-regression-model-in-pytorch/)\n",
    "    * [My VAE](https://github.com/octodoge/dssc-pml/blob/main/code/vae_pyro.ipynb)\n",
    "    * [Marta's classifier](https://github.com/15Max/MusicalGenreRecognition/blob/main/project.ipynb)"
   ]
  },
  {
   "cell_type": "code",
   "execution_count": 3,
   "id": "bac01447-bdf9-4731-ab79-cc9860cd0a16",
   "metadata": {},
   "outputs": [],
   "source": [
    "import torch.nn as nn\n",
    "import torch.nn.functional as F\n",
    "\n",
    "class Model(nn.Module): #TODO move it in utils/models.py and adjust the imports\n",
    "    def __init__(self):\n",
    "        super().__init__()\n",
    "        self.conv1 = nn.Conv2d(3, 6, 5, padding='same')\n",
    "        self.pool = nn.MaxPool2d(2, 2)\n",
    "        self.conv2 = nn.Conv2d(6, 16, 5, padding='same')\n",
    "        self.fc1 = nn.Linear(16 * 56 * 56, 120)\n",
    "        self.fc2 = nn.Linear(120, 84)\n",
    "        self.fc3 = nn.Linear(84, 1)\n",
    "\n",
    "    def forward(self, x):\n",
    "        x = self.pool(F.relu(self.conv1(x)))\n",
    "        x = self.pool(F.relu(self.conv2(x)))\n",
    "        x = torch.flatten(x, -3) # flatten all dimensions except batch\n",
    "        x = F.relu(self.fc1(x))\n",
    "        x = F.relu(self.fc2(x))\n",
    "        x = self.fc3(x).squeeze(-1)\n",
    "        return F.sigmoid(x)"
   ]
  },
  {
   "cell_type": "code",
   "execution_count": 13,
   "id": "e7b49fcb-5c7f-4530-9567-5250c227a66b",
   "metadata": {},
   "outputs": [
    {
     "data": {
      "text/plain": [
       "'cpu'"
      ]
     },
     "execution_count": 13,
     "metadata": {},
     "output_type": "execute_result"
    }
   ],
   "source": [
    "import torch\n",
    "\n",
    "device = 'cuda' if torch.cuda.is_available() else 'cpu'\n",
    "device"
   ]
  },
  {
   "cell_type": "code",
   "execution_count": null,
   "id": "a2e279f0-7d78-4be1-b3f0-94a34a27327d",
   "metadata": {},
   "outputs": [],
   "source": [
    "import torch.optim as optim\n",
    "\n",
    "#define model, loss function and optimizer\n",
    "model = Model().to(device)\n",
    "criterion = nn.MSELoss()\n",
    "optimizer = optim.Adam(model.parameters(), lr=1e-3)\n",
    "\n",
    "train_losses = []\n",
    "val_losses = []\n",
    "\n",
    "for epoch in range(2):\n",
    "    running_loss = 0\n",
    "\n",
    "    #train\n",
    "    model.train()\n",
    "    for inputs, labels in train_loader:\n",
    "        outputs = model(inputs.to(device))\n",
    "        loss = criterion(outputs, labels.to(device)) #estimates loss of batch with current parameters\n",
    "        optimizer.zero_grad() #resets gradient to avoid accumulation\n",
    "        loss.backward() #computes gradient of loss w.r.t. parameters\n",
    "        optimizer.step() #updates parameters to reduce loss\n",
    "        running_loss += loss.item()\n",
    "\n",
    "    #evaluate\n",
    "    model.eval()\n",
    "        "
   ]
  },
  {
   "cell_type": "code",
   "execution_count": null,
   "id": "77652f6d-282f-42b3-9b9a-a6d98e2ebf29",
   "metadata": {},
   "outputs": [],
   "source": [
    "import numpy as np\n",
    "import torch\n",
    "\n",
    "#TODO device and move model and batches\n",
    "\n",
    "#hold the best model\n",
    "best_mse = np.inf\n",
    "best_weights = None\n",
    "history = []\n",
    "\n",
    "#training loop\n",
    "for epoch in range(2):\n",
    "    model.train()\n",
    "    for X_batch, y_batch in train_loader:\n",
    "        # forward pass\n",
    "        y_pred = model(X_batch)\n",
    "        loss = criterion(y_pred, y_batch)\n",
    "        # backward pass\n",
    "        optimizer.zero_grad()\n",
    "        loss.backward()\n",
    "        # update weights\n",
    "        optimizer.step()\n",
    "        # print progress\n",
    "        print(loss)\n",
    "    # evaluate accuracy at end of each epoch\n",
    "    model.eval()\n",
    "    y_pred = model(X_test)\n",
    "    mse = loss_fn(y_pred, y_test)\n",
    "    history.append(mse)\n",
    "    if mse < best_mse:\n",
    "        best_mse = mse\n",
    "        best_weights = copy.deepcopy(model.state_dict())\n",
    "\n",
    "# restore model and return best accuracy\n",
    "model.load_state_dict(best_weights)"
   ]
  },
  {
   "cell_type": "code",
   "execution_count": null,
   "id": "60d336ad-3434-497c-8d3f-329f3d5c1eed",
   "metadata": {},
   "outputs": [],
   "source": []
  }
 ],
 "metadata": {
  "kernelspec": {
   "display_name": "Python 3 (ipykernel)",
   "language": "python",
   "name": "python3"
  },
  "language_info": {
   "codemirror_mode": {
    "name": "ipython",
    "version": 3
   },
   "file_extension": ".py",
   "mimetype": "text/x-python",
   "name": "python",
   "nbconvert_exporter": "python",
   "pygments_lexer": "ipython3",
   "version": "3.11.5"
  }
 },
 "nbformat": 4,
 "nbformat_minor": 5
}
