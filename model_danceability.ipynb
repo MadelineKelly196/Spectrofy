{
 "cells": [
  {
   "cell_type": "code",
   "execution_count": 1,
   "id": "ff897a7d-45b4-4961-aff6-1c12981fc461",
   "metadata": {},
   "outputs": [
    {
     "data": {
      "text/plain": [
       "(19, 19, 910)"
      ]
     },
     "execution_count": 1,
     "metadata": {},
     "output_type": "execute_result"
    }
   ],
   "source": [
    "import os\n",
    "from utils.dataset import SpectrogramsDataset\n",
    "from utils.preprocessing import transform\n",
    "from torch.utils.data import random_split\n",
    "from torch import Generator\n",
    "\n",
    "#split dataset deterministically\n",
    "spec_dir = os.path.join('data', 'spec')\n",
    "features_path = os.path.join('data', 'features.csv')\n",
    "dataset = SpectrogramsDataset(spec_dir, features_path, transform, target='danceability')\n",
    "trainset, valset, testset = random_split(dataset, [0.02, 0.02, 0.96], Generator().manual_seed(42)) #TODO 0.8,0.1,0.1\n",
    "len(trainset), len(valset), len(testset)"
   ]
  },
  {
   "cell_type": "code",
   "execution_count": 2,
   "id": "e687f30e-9523-4da5-b8cc-175d33fb13c7",
   "metadata": {},
   "outputs": [
    {
     "data": {
      "text/plain": [
       "torch.Size([4, 3, 224, 224])"
      ]
     },
     "execution_count": 2,
     "metadata": {},
     "output_type": "execute_result"
    }
   ],
   "source": [
    "from torch.utils.data import DataLoader\n",
    "\n",
    "#configure batches\n",
    "kwargs = {\n",
    "    'batch_size': 4, #TODO tune with Neptune\n",
    "    'num_workers': 2,\n",
    "    'pin_memory': True,\n",
    "    'drop_last': True}\n",
    "train_loader = DataLoader(trainset, shuffle=True, persistent_workers=True, **kwargs)\n",
    "val_loader = DataLoader(valset, persistent_workers=True, **kwargs)\n",
    "test_loader = DataLoader(testset, **kwargs)\n",
    "next(iter(train_loader))[0].shape"
   ]
  },
  {
   "cell_type": "code",
   "execution_count": 3,
   "id": "e7b49fcb-5c7f-4530-9567-5250c227a66b",
   "metadata": {},
   "outputs": [
    {
     "data": {
      "text/plain": [
       "'cpu'"
      ]
     },
     "execution_count": 3,
     "metadata": {},
     "output_type": "execute_result"
    }
   ],
   "source": [
    "#TODO adjust this cell\n",
    "\n",
    "import torch\n",
    "from utils.models import DanceabilityModel\n",
    "from torch import nn, optim\n",
    "\n",
    "#configure training hyperparameters\n",
    "device = 'cuda' if torch.cuda.is_available() else 'cpu'\n",
    "model = DanceabilityModel().to(device) #TODO tune with Neptune\n",
    "criterion = nn.MSELoss() #TODO tune with Neptune\n",
    "optimizer = optim.Adam(model.parameters(), lr=1e-3) #TODO tune with Neptune\n",
    "device"
   ]
  },
  {
   "cell_type": "code",
   "execution_count": 4,
   "id": "a2e279f0-7d78-4be1-b3f0-94a34a27327d",
   "metadata": {},
   "outputs": [
    {
     "name": "stdout",
     "output_type": "stream",
     "text": [
      "[epoch 000] train loss: 0.0579, val loss: 0.0635 (new best)\n",
      "[epoch 001] train loss: 0.0546, val loss: 0.0231 (new best)\n",
      "[epoch 002] train loss: 0.0401, val loss: 0.0140 (new best)\n",
      "[epoch 003] train loss: 0.0419, val loss: 0.0120 (new best)\n",
      "[epoch 004] train loss: 0.0433, val loss: 0.0119 (new best)\n",
      "[epoch 005] train loss: 0.0379, val loss: 0.0120\n",
      "[epoch 006] train loss: 0.0381, val loss: 0.0119 (new best)\n",
      "[epoch 007] train loss: 0.0296, val loss: 0.0133\n",
      "[epoch 008] train loss: 0.0409, val loss: 0.0144\n",
      "[epoch 009] train loss: 0.0420, val loss: 0.0138\n"
     ]
    }
   ],
   "source": [
    "from copy import deepcopy\n",
    "from contextlib import suppress\n",
    "import numpy as np\n",
    "\n",
    "train_losses = []\n",
    "val_losses = []\n",
    "best_params = None\n",
    "for epoch in range(999):\n",
    "\n",
    "    #train\n",
    "    model.train()\n",
    "    running_loss = 0\n",
    "    for inputs, labels in train_loader:\n",
    "        outputs = model(inputs.to(device))\n",
    "        loss = criterion(outputs, labels.to(device)) #estimates loss of batch with current parameters\n",
    "        optimizer.zero_grad() #resets gradient to avoid accumulation\n",
    "        loss.backward() #computes gradient of loss w.r.t. parameters\n",
    "        optimizer.step() #updates parameters to reduce loss\n",
    "        running_loss += loss.item()\n",
    "    train_losses.append(running_loss/len(train_loader))\n",
    "    print(f'[epoch {epoch:03}] train loss: {train_losses[-1]:.4f}, ', end='')\n",
    "\n",
    "    #evaluate\n",
    "    model.eval()\n",
    "    running_loss = 0\n",
    "    for inputs, labels in val_loader:\n",
    "        outputs = model(inputs.to(device))\n",
    "        running_loss += criterion(outputs, labels.to(device)).item()\n",
    "    val_losses.append(running_loss/len(val_loader))\n",
    "\n",
    "    #back up best parameters\n",
    "    end = '\\n'\n",
    "    if val_losses[-1] <= min(val_losses):\n",
    "        best_params = deepcopy(model.state_dict())\n",
    "        end = ' (new best)\\n'\n",
    "    print(f'val loss: {val_losses[-1]:.4f}', end=end)\n",
    "\n",
    "    #stop early\n",
    "    patience = 3\n",
    "    with suppress(IndexError):\n",
    "        if all(np.array(val_losses[-patience:]) > val_losses[-patience-1]):\n",
    "            break"
   ]
  },
  {
   "cell_type": "markdown",
   "id": "8271d88c-9d45-40fd-98da-ab4128c11b4c",
   "metadata": {},
   "source": [
    "# TODO\n",
    "\n",
    "* Check:\n",
    "    * [Image classification example](https://pytorch.org/tutorials/beginner/blitz/cifar10_tutorial.html)\n",
    "    * [Tabular regression example](https://machinelearningmastery.com/building-a-regression-model-in-pytorch/)\n",
    "    * [My VAE](https://github.com/octodoge/dssc-pml/blob/main/code/vae_pyro.ipynb)\n",
    "    * [Marta's classifier](https://github.com/15Max/MusicalGenreRecognition/blob/main/project.ipynb)"
   ]
  }
 ],
 "metadata": {
  "kernelspec": {
   "display_name": "Python 3 (ipykernel)",
   "language": "python",
   "name": "python3"
  },
  "language_info": {
   "codemirror_mode": {
    "name": "ipython",
    "version": 3
   },
   "file_extension": ".py",
   "mimetype": "text/x-python",
   "name": "python",
   "nbconvert_exporter": "python",
   "pygments_lexer": "ipython3",
   "version": "3.11.5"
  }
 },
 "nbformat": 4,
 "nbformat_minor": 5
}
