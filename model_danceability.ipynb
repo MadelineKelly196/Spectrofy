{
 "cells": [
  {
   "cell_type": "code",
   "execution_count": 1,
   "id": "ff897a7d-45b4-4961-aff6-1c12981fc461",
   "metadata": {},
   "outputs": [
    {
     "data": {
      "text/plain": [
       "(759, 95, 94)"
      ]
     },
     "execution_count": 1,
     "metadata": {},
     "output_type": "execute_result"
    }
   ],
   "source": [
    "import os\n",
    "from utils.dataset import SpectrogramsDataset\n",
    "from utils.preprocessing import transform\n",
    "from torch.utils.data import random_split\n",
    "from torch import Generator\n",
    "\n",
    "#split dataset deterministically\n",
    "spec_dir = os.path.join('data', 'spec')\n",
    "features_path = os.path.join('data', 'features.csv')\n",
    "dataset = SpectrogramsDataset(spec_dir, features_path, transform, target='danceability')\n",
    "trainset, valset, testset = random_split(dataset, [0.8, 0.1, 0.1], Generator().manual_seed(42))\n",
    "len(trainset), len(valset), len(testset)"
   ]
  },
  {
   "cell_type": "code",
   "execution_count": 2,
   "id": "e687f30e-9523-4da5-b8cc-175d33fb13c7",
   "metadata": {},
   "outputs": [],
   "source": [
    "from torch.utils.data import DataLoader\n",
    "\n",
    "#configure batches\n",
    "kwargs = {\n",
    "    'batch_size': 4,\n",
    "    'shuffle': True,\n",
    "    'num_workers': 2,\n",
    "    'pin_memory': True, #TODO device\n",
    "    'drop_last': True,\n",
    "    'persistent_workers': True}\n",
    "train_loader = DataLoader(trainset, **kwargs)\n",
    "val_loader = DataLoader(valset, **kwargs)\n",
    "test_loader = DataLoader(testset, **kwargs) #TODO avoid shuffling?"
   ]
  },
  {
   "cell_type": "code",
   "execution_count": null,
   "id": "494742ee-1eb3-4cc7-85a7-2d9a0ee9e512",
   "metadata": {},
   "outputs": [],
   "source": []
  }
 ],
 "metadata": {
  "kernelspec": {
   "display_name": "Python 3 (ipykernel)",
   "language": "python",
   "name": "python3"
  },
  "language_info": {
   "codemirror_mode": {
    "name": "ipython",
    "version": 3
   },
   "file_extension": ".py",
   "mimetype": "text/x-python",
   "name": "python",
   "nbconvert_exporter": "python",
   "pygments_lexer": "ipython3",
   "version": "3.11.5"
  }
 },
 "nbformat": 4,
 "nbformat_minor": 5
}
