{
 "cells": [
  {
   "cell_type": "code",
   "execution_count": 1,
   "id": "dba76857-b572-4875-b482-a3d3517ec200",
   "metadata": {
    "id": "dba76857-b572-4875-b482-a3d3517ec200"
   },
   "outputs": [],
   "source": [
    "from contextlib import suppress\n",
    "from zipfile import ZipFile, BadZipFile\n",
    "import os\n",
    "\n",
    "#set up Colab if detected\n",
    "with suppress(ModuleNotFoundError):\n",
    "    from google.colab import drive\n",
    "    %pip install neptune > /dev/null\n",
    "    try: #assumes repo zipped (zip -r spectrofy.zip Spectrofy -x \\*.git* \\*ipynb* \\*.mp3 \\*.pth) and uploaded\n",
    "        if not os.path.exists('/content/Spectrofy'):\n",
    "            with ZipFile('/content/spectrofy.zip') as zip:\n",
    "                zip.extractall('/content')\n",
    "        os.chdir('/content/Spectrofy')\n",
    "    except (FileNotFoundError, BadZipFile): #as fallback assumes repo uploaded to Drive (training will be slower)\n",
    "        drive.mount('/content/drive')\n",
    "        os.chdir('/content/drive/MyDrive/Spectrofy')"
   ]
  },
  {
   "cell_type": "code",
   "execution_count": 2,
   "id": "5a8320f3-fe05-4414-b0e5-6c733dc7c63c",
   "metadata": {
    "colab": {
     "base_uri": "https://localhost:8080/"
    },
    "id": "5a8320f3-fe05-4414-b0e5-6c733dc7c63c",
    "outputId": "68a224ad-895a-4040-860e-8b8fbd06f580"
   },
   "outputs": [
    {
     "name": "stderr",
     "output_type": "stream",
     "text": [
      "<ipython-input-2-ba0c64246bee>:7: NeptuneWarning: The following monitoring options are disabled by default in interactive sessions: 'capture_stdout', 'capture_stderr', 'capture_traceback', and 'capture_hardware_metrics'. To enable them, set each parameter to 'True' when initializing the run. The monitoring will continue until you call run.stop() or the kernel stops. Also note: Your source files can only be tracked if you pass the path(s) to the 'source_code' argument. For help, see the Neptune docs: https://docs.neptune.ai/logging/source_code/\n",
      "  run = neptune.init_run( #the warning about interactive sessions can be ignored\n"
     ]
    },
    {
     "name": "stdout",
     "output_type": "stream",
     "text": [
      "https://app.neptune.ai/team-n/spectrofy/e/SPEC-60\n"
     ]
    }
   ],
   "source": [
    "import neptune\n",
    "from getpass import getpass\n",
    "\n",
    "#set up Neptune\n",
    "log = True #enables/disables logging\n",
    "if log:\n",
    "    run = neptune.init_run( #the warning about interactive sessions can be ignored\n",
    "        api_token = getpass('Enter your Neptune API token: '), #or paste it into the code\n",
    "        project = input('Enter your Neptune project name: '))"
   ]
  },
  {
   "cell_type": "code",
   "execution_count": 3,
   "id": "ff897a7d-45b4-4961-aff6-1c12981fc461",
   "metadata": {
    "colab": {
     "base_uri": "https://localhost:8080/"
    },
    "id": "ff897a7d-45b4-4961-aff6-1c12981fc461",
    "outputId": "3cb8409b-e682-4c67-c1f3-54be16cf4ae0"
   },
   "outputs": [
    {
     "data": {
      "text/plain": [
       "(4373, 546, 546)"
      ]
     },
     "execution_count": 3,
     "metadata": {},
     "output_type": "execute_result"
    }
   ],
   "source": [
    "from utils.dataset import SpectrogramsDataset\n",
    "from utils.preprocessing import transform\n",
    "from torch.utils.data import random_split\n",
    "from torch import Generator\n",
    "\n",
    "#split dataset deterministically\n",
    "spec_dir = os.path.join('data', 'spec')\n",
    "features_path = os.path.join('data', 'features.csv')\n",
    "dataset = SpectrogramsDataset(spec_dir, features_path, transform, target='danceability')\n",
    "trainset, valset, testset = random_split(dataset, [0.8, 0.1, 0.1], Generator().manual_seed(42))\n",
    "len(trainset), len(valset), len(testset)"
   ]
  },
  {
   "cell_type": "code",
   "execution_count": 4,
   "id": "e687f30e-9523-4da5-b8cc-175d33fb13c7",
   "metadata": {
    "colab": {
     "base_uri": "https://localhost:8080/"
    },
    "id": "e687f30e-9523-4da5-b8cc-175d33fb13c7",
    "outputId": "d4341aad-69f4-4607-dc81-86d8eebdac03"
   },
   "outputs": [
    {
     "data": {
      "text/plain": [
       "(3, 224, 224)"
      ]
     },
     "execution_count": 4,
     "metadata": {},
     "output_type": "execute_result"
    }
   ],
   "source": [
    "from torch.utils.data import DataLoader\n",
    "\n",
    "#configure batches\n",
    "loader_args = {\n",
    "    'batch_size': 128, #large so smooth\n",
    "    'num_workers': 2,\n",
    "    'pin_memory': True,\n",
    "    'drop_last': True}\n",
    "train_loader = DataLoader(trainset, shuffle=True, persistent_workers=True, **loader_args)\n",
    "val_loader = DataLoader(valset, persistent_workers=True, **loader_args)\n",
    "test_loader = DataLoader(testset, **loader_args)\n",
    "batch_size, channels, height, width = next(iter(train_loader))[0].shape\n",
    "\n",
    "#log dataset\n",
    "if log:\n",
    "    run['dataset'] = {\n",
    "        'target': dataset.target,\n",
    "        'train-validation-test': (\n",
    "            f'{len(trainset)}-' #whole because reshuffled at each epoch\n",
    "            f'{batch_size * len(val_loader)}-'\n",
    "            f'{batch_size * len(test_loader)}'),\n",
    "        'batch_size': batch_size,\n",
    "        'channels-height-width': f'{channels}-{height}-{width}'}\n",
    "channels, height, width"
   ]
  },
  {
   "cell_type": "code",
   "execution_count": 5,
   "id": "e7b49fcb-5c7f-4530-9567-5250c227a66b",
   "metadata": {
    "colab": {
     "base_uri": "https://localhost:8080/"
    },
    "id": "e7b49fcb-5c7f-4530-9567-5250c227a66b",
    "outputId": "4e4c8f7c-ea7e-4467-bd36-f0f6bbef1f6e"
   },
   "outputs": [
    {
     "data": {
      "text/plain": [
       "device(type='cuda')"
      ]
     },
     "execution_count": 5,
     "metadata": {},
     "output_type": "execute_result"
    }
   ],
   "source": [
    "import torch\n",
    "import importlib; from utils import models; importlib.reload(models) #for debugging purposes\n",
    "from utils.models import DanceabilityModel\n",
    "from torch import nn, optim\n",
    "import inspect\n",
    "\n",
    "#configure training\n",
    "model_args = {}\n",
    "device = torch.device('cuda' if torch.cuda.is_available() else 'cpu')\n",
    "model = DanceabilityModel(**model_args).to(device)\n",
    "criterion = type('MSELoss', (nn.MSELoss,), {'__str__': lambda self : 'MSE'})()\n",
    "optimizer = optim.Adam(model.parameters(), lr=1e-3)\n",
    "\n",
    "#log model\n",
    "if log:\n",
    "    run['model'] = {\n",
    "        'architecture': inspect.getsource(DanceabilityModel),\n",
    "        'arguments': model_args}\n",
    "device"
   ]
  },
  {
   "cell_type": "code",
   "execution_count": 6,
   "id": "a2e279f0-7d78-4be1-b3f0-94a34a27327d",
   "metadata": {
    "colab": {
     "base_uri": "https://localhost:8080/"
    },
    "id": "a2e279f0-7d78-4be1-b3f0-94a34a27327d",
    "outputId": "753e7e72-c55d-47c8-feeb-8f3da3ce5413"
   },
   "outputs": [
    {
     "name": "stdout",
     "output_type": "stream",
     "text": [
      "[epoch 000] train loss: 0.0304, val loss: 0.0193 (new best)\n",
      "[epoch 001] train loss: 0.0194, val loss: 0.0180 (new best)\n",
      "[epoch 002] train loss: 0.0147, val loss: 0.0147 (new best)\n",
      "[epoch 003] train loss: 0.0151, val loss: 0.0145 (new best)\n",
      "[epoch 004] train loss: 0.0136, val loss: 0.0154\n",
      "[epoch 005] train loss: 0.0136, val loss: 0.0148\n",
      "[epoch 006] train loss: 0.0127, val loss: 0.0134 (new best)\n",
      "[epoch 007] train loss: 0.0126, val loss: 0.0141\n",
      "[epoch 008] train loss: 0.0115, val loss: 0.0131 (new best)\n",
      "[epoch 009] train loss: 0.0119, val loss: 0.0126 (new best)\n",
      "[epoch 010] train loss: 0.0119, val loss: 0.0141\n",
      "[epoch 011] train loss: 0.0110, val loss: 0.0133\n",
      "[epoch 012] train loss: 0.0116, val loss: 0.0124 (new best)\n",
      "[epoch 013] train loss: 0.0107, val loss: 0.0123 (new best)\n",
      "[epoch 014] train loss: 0.0110, val loss: 0.0121 (new best)\n",
      "[epoch 015] train loss: 0.0112, val loss: 0.0124\n",
      "[epoch 016] train loss: 0.0116, val loss: 0.0141\n",
      "[epoch 017] train loss: 0.0103, val loss: 0.0119 (new best)\n",
      "[epoch 018] train loss: 0.0108, val loss: 0.0130\n",
      "[epoch 019] train loss: 0.0112, val loss: 0.0118 (new best)\n",
      "[epoch 020] train loss: 0.0097, val loss: 0.0118 (new best)\n",
      "[epoch 021] train loss: 0.0100, val loss: 0.0128\n",
      "[epoch 022] train loss: 0.0105, val loss: 0.0141\n",
      "[epoch 023] train loss: 0.0096, val loss: 0.0135\n",
      "[epoch 024] train loss: 0.0099, val loss: 0.0140\n",
      "[epoch 025] train loss: 0.0099, val loss: 0.0118\n"
     ]
    }
   ],
   "source": [
    "from copy import deepcopy\n",
    "import numpy as np\n",
    "\n",
    "train_losses = []\n",
    "val_losses = []\n",
    "best_params = None\n",
    "for epoch in range(999):\n",
    "\n",
    "    #train\n",
    "    model.train()\n",
    "    running_loss = 0\n",
    "    for inputs, labels in train_loader:\n",
    "        outputs = model(inputs.to(device))\n",
    "        loss = criterion(outputs, labels.to(device)) #estimates loss of batch with current parameters\n",
    "        optimizer.zero_grad() #resets gradient to avoid accumulation\n",
    "        loss.backward() #computes gradient of loss w.r.t. parameters\n",
    "        optimizer.step() #updates parameters to reduce loss\n",
    "        running_loss += loss.item()\n",
    "    train_losses.append(running_loss/len(train_loader))\n",
    "    print(f'[epoch {epoch:03}] train loss: {train_losses[-1]:.4f}, ', end='')\n",
    "\n",
    "    #evaluate on validation set\n",
    "    model.eval()\n",
    "    running_loss = 0\n",
    "    with torch.inference_mode(): #to save memory and computations\n",
    "        for inputs, labels in val_loader:\n",
    "            outputs = model(inputs.to(device))\n",
    "            running_loss += criterion(outputs, labels.to(device)).item()\n",
    "    val_losses.append(running_loss/len(val_loader))\n",
    "\n",
    "    #back up best parameters\n",
    "    end = '\\n'\n",
    "    if val_losses[-1] <= min(val_losses):\n",
    "        best_params = deepcopy(model.state_dict())\n",
    "        end = ' (new best)\\n'\n",
    "    print(f'val loss: {val_losses[-1]:.4f}', end=end)\n",
    "\n",
    "    #stop early\n",
    "    patience = 5\n",
    "    with suppress(IndexError):\n",
    "        if all(np.array(val_losses[-patience:]) > val_losses[-patience-1]):\n",
    "            break"
   ]
  },
  {
   "cell_type": "code",
   "execution_count": 7,
   "id": "bbb0929d-99dc-411b-81cf-562aecf08e1b",
   "metadata": {
    "colab": {
     "base_uri": "https://localhost:8080/",
     "height": 449
    },
    "id": "bbb0929d-99dc-411b-81cf-562aecf08e1b",
    "outputId": "3d84f08b-9076-48ad-a293-00de212f6ee5"
   },
   "outputs": [
    {
     "data": {
      "image/png": "[encoded data removed]",
      "text/plain": [
       "<Figure size 640x480 with 1 Axes>"
      ]
     },
     "metadata": {},
     "output_type": "display_data"
    }
   ],
   "source": [
    "import matplotlib.pyplot as plt\n",
    "\n",
    "#plot training history\n",
    "plt.plot(train_losses, label=f'Train {criterion}')\n",
    "plt.plot(val_losses, label=f'Validation {criterion}')\n",
    "plt.legend()\n",
    "plt.xlabel('Epoch')\n",
    "plt.ylabel('Mean loss')\n",
    "figure = plt.gcf() #will be logged"
   ]
  },
  {
   "cell_type": "code",
   "execution_count": 8,
   "id": "9025c9e0-296c-4842-abca-999c69a7facc",
   "metadata": {
    "colab": {
     "base_uri": "https://localhost:8080/"
    },
    "id": "9025c9e0-296c-4842-abca-999c69a7facc",
    "outputId": "c3d8812e-0bde-4a7e-9778-9f5d1d6cdfbb"
   },
   "outputs": [
    {
     "name": "stdout",
     "output_type": "stream",
     "text": [
      "Mean absolute error on test set: 0.0815\n"
     ]
    }
   ],
   "source": [
    "import torch.nn.functional as F\n",
    "\n",
    "#evaluate on test set\n",
    "model.load_state_dict(best_params)\n",
    "assert not model.training\n",
    "running_loss = 0\n",
    "with torch.inference_mode():\n",
    "    for inputs, labels in test_loader:\n",
    "        outputs = model(inputs.to(device))\n",
    "        running_loss += F.l1_loss(outputs, labels.to(device)).item() #MAE for interpretability\n",
    "test_mae = round(running_loss/len(test_loader), ndigits=4)\n",
    "print(f'Mean absolute error on test set: {test_mae}')\n",
    "\n",
    "#log training\n",
    "if log:\n",
    "    run['training'] = {\n",
    "        'optimizer': str(optimizer),\n",
    "        f'validation_{criterion}'.lower(): round(min(val_losses), ndigits=4),\n",
    "        'test_mae': test_mae}\n",
    "    run['training/history'].upload(figure)"
   ]
  },
  {
   "cell_type": "code",
   "execution_count": 9,
   "id": "d00ada90-03b8-4d59-9ead-70ca0d30ce1a",
   "metadata": {
    "id": "d00ada90-03b8-4d59-9ead-70ca0d30ce1a"
   },
   "outputs": [],
   "source": [
    "#save best parameters\n",
    "param_dir = os.path.join('utils', 'model_params')\n",
    "os.makedirs(param_dir, exist_ok=True)\n",
    "param_path = os.path.join(param_dir, 'danceability.pth')\n",
    "torch.save(best_params, param_path)"
   ]
  },
  {
   "cell_type": "code",
   "execution_count": 10,
   "id": "e96a88e2-b229-4cca-8239-03ccf8fd91bb",
   "metadata": {
    "colab": {
     "base_uri": "https://localhost:8080/"
    },
    "id": "e96a88e2-b229-4cca-8239-03ccf8fd91bb",
    "outputId": "0c4196bb-45bc-497a-d1e7-6e4b8a34c7d3"
   },
   "outputs": [
    {
     "name": "stdout",
     "output_type": "stream",
     "text": [
      "[danceability] true: 0.63, predicted: 0.67\n"
     ]
    }
   ],
   "source": [
    "#test model\n",
    "model = DanceabilityModel(**model_args)\n",
    "model.load_state_dict(torch.load(param_path, map_location='cpu'))\n",
    "model.eval()\n",
    "spec, true = testset[0]\n",
    "pred = model(spec).item()\n",
    "print(f'[danceability] true: {true:.2f}, predicted: {pred:.2f}')"
   ]
  },
  {
   "cell_type": "code",
   "execution_count": 11,
   "id": "8f58ab60-cd38-468a-a4ec-a0766624e6b0",
   "metadata": {
    "colab": {
     "base_uri": "https://localhost:8080/"
    },
    "id": "8f58ab60-cd38-468a-a4ec-a0766624e6b0",
    "outputId": "91fea029-2a5f-425c-ee45-58e58538660e"
   },
   "outputs": [
    {
     "name": "stdout",
     "output_type": "stream",
     "text": [
      "Shutting down background jobs, please wait a moment...\n",
      "Done!\n",
      "Waiting for the remaining 4 operations to synchronize with Neptune. Do not kill this process.\n",
      "All 4 operations synced, thanks for waiting!\n",
      "Explore the metadata in the Neptune app:\n",
      "https://app.neptune.ai/team-n/spectrofy/e/SPEC-60/metadata\n"
     ]
    }
   ],
   "source": [
    "#stop logging\n",
    "if log:\n",
    "    run.stop()"
   ]
  }
 ],
 "metadata": {
  "accelerator": "GPU",
  "colab": {
   "gpuType": "T4",
   "provenance": []
  },
  "kernelspec": {
   "display_name": "Python 3 (ipykernel)",
   "language": "python",
   "name": "python3"
  },
  "language_info": {
   "codemirror_mode": {
    "name": "ipython",
    "version": 3
   },
   "file_extension": ".py",
   "mimetype": "text/x-python",
   "name": "python",
   "nbconvert_exporter": "python",
   "pygments_lexer": "ipython3",
   "version": "3.11.5"
  }
 },
 "nbformat": 4,
 "nbformat_minor": 5
}
