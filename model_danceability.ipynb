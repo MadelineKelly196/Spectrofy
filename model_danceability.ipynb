{
 "cells": [
  {
   "cell_type": "code",
   "execution_count": 1,
   "id": "ff897a7d-45b4-4961-aff6-1c12981fc461",
   "metadata": {},
   "outputs": [
    {
     "data": {
      "text/plain": [
       "760"
      ]
     },
     "execution_count": 1,
     "metadata": {},
     "output_type": "execute_result"
    }
   ],
   "source": [
    "import os\n",
    "from utils.dataset import SpectrogramsDataset\n",
    "from utils.preprocessing import transform\n",
    "from torch.utils.data import random_split\n",
    "import numpy as np\n",
    "\n",
    "spec_dir = os.path.join('data', 'spec')\n",
    "features_path = os.path.join('data', 'features.csv')\n",
    "dataset = SpectrogramsDataset(spec_dir, features_path, transform, target='danceability')\n",
    "val_len = test_len = int(len(dataset)*0.1)\n",
    "train_len = len(dataset) - val_len - test_len\n",
    "train_set, val_set, test_set = random_split(dataset, [train_len, val_len, test_len])\n",
    "len(train_set)"
   ]
  }
 ],
 "metadata": {
  "kernelspec": {
   "display_name": "Python 3 (ipykernel)",
   "language": "python",
   "name": "python3"
  },
  "language_info": {
   "codemirror_mode": {
    "name": "ipython",
    "version": 3
   },
   "file_extension": ".py",
   "mimetype": "text/x-python",
   "name": "python",
   "nbconvert_exporter": "python",
   "pygments_lexer": "ipython3",
   "version": "3.11.5"
  }
 },
 "nbformat": 4,
 "nbformat_minor": 5
}
