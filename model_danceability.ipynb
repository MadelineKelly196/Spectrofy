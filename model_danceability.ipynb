{
 "cells": [
  {
   "cell_type": "code",
   "execution_count": 1,
   "id": "ff897a7d-45b4-4961-aff6-1c12981fc461",
   "metadata": {},
   "outputs": [
    {
     "data": {
      "text/plain": [
       "(67, 66, 815)"
      ]
     },
     "execution_count": 1,
     "metadata": {},
     "output_type": "execute_result"
    }
   ],
   "source": [
    "import os\n",
    "from utils.dataset import SpectrogramsDataset\n",
    "from utils.preprocessing import transform\n",
    "from torch.utils.data import random_split\n",
    "from torch import Generator\n",
    "\n",
    "#split dataset deterministically\n",
    "spec_dir = os.path.join('data', 'spec')\n",
    "features_path = os.path.join('data', 'features.csv')\n",
    "dataset = SpectrogramsDataset(spec_dir, features_path, transform, target='danceability')\n",
    "trainset, valset, testset = random_split(dataset, [0.07, 0.07, 0.86], Generator().manual_seed(42)) #TODO 0.8,0.1,0.1\n",
    "len(trainset), len(valset), len(testset)"
   ]
  },
  {
   "cell_type": "code",
   "execution_count": 2,
   "id": "e687f30e-9523-4da5-b8cc-175d33fb13c7",
   "metadata": {},
   "outputs": [
    {
     "data": {
      "text/plain": [
       "(3, 224, 224)"
      ]
     },
     "execution_count": 2,
     "metadata": {},
     "output_type": "execute_result"
    }
   ],
   "source": [
    "from torch.utils.data import DataLoader\n",
    "\n",
    "#configure batches\n",
    "kwargs = {\n",
    "    'batch_size': 32, #TODO tune with Neptune\n",
    "    'num_workers': 2,\n",
    "    'pin_memory': True,\n",
    "    'drop_last': True}\n",
    "train_loader = DataLoader(trainset, shuffle=True, persistent_workers=True, **kwargs)\n",
    "val_loader = DataLoader(valset, persistent_workers=True, **kwargs)\n",
    "test_loader = DataLoader(testset, **kwargs)\n",
    "_, channels, height, width = next(iter(train_loader))[0].shape\n",
    "channels, height, width"
   ]
  },
  {
   "cell_type": "code",
   "execution_count": 3,
   "id": "e7b49fcb-5c7f-4530-9567-5250c227a66b",
   "metadata": {},
   "outputs": [
    {
     "ename": "ImportError",
     "evalue": "cannot import name 'DanceabilityModel' from 'utils.models' (/home/mathias/Desktop/Spectrofy/utils/models.py)",
     "output_type": "error",
     "traceback": [
      "\u001b[0;31m---------------------------------------------------------------------------\u001b[0m",
      "\u001b[0;31mImportError\u001b[0m                               Traceback (most recent call last)",
      "Cell \u001b[0;32mIn[3], line 2\u001b[0m\n\u001b[1;32m      1\u001b[0m \u001b[38;5;28;01mimport\u001b[39;00m \u001b[38;5;21;01mtorch\u001b[39;00m\n\u001b[0;32m----> 2\u001b[0m \u001b[38;5;28;01mfrom\u001b[39;00m \u001b[38;5;21;01mutils\u001b[39;00m\u001b[38;5;21;01m.\u001b[39;00m\u001b[38;5;21;01mmodels\u001b[39;00m \u001b[38;5;28;01mimport\u001b[39;00m DanceabilityModel\n\u001b[1;32m      3\u001b[0m \u001b[38;5;28;01mfrom\u001b[39;00m \u001b[38;5;21;01mtorch\u001b[39;00m \u001b[38;5;28;01mimport\u001b[39;00m nn, optim\n\u001b[1;32m      5\u001b[0m \u001b[38;5;66;03m#configure training\u001b[39;00m\n",
      "\u001b[0;31mImportError\u001b[0m: cannot import name 'DanceabilityModel' from 'utils.models' (/home/mathias/Desktop/Spectrofy/utils/models.py)"
     ]
    }
   ],
   "source": [
    "import torch\n",
    "from utils.models import DanceabilityModel\n",
    "from torch import nn, optim\n",
    "\n",
    "#configure training\n",
    "device = torch.device('cuda' if torch.cuda.is_available() else 'cpu')\n",
    "model = DanceabilityModel(channels, height, width).to(device) #TODO tune with Neptune\n",
    "criterion = nn.MSELoss()\n",
    "optimizer = optim.Adam(model.parameters(), lr=1e-3) #TODO tune lr with Neptune\n",
    "device"
   ]
  },
  {
   "cell_type": "code",
   "execution_count": null,
   "id": "a2e279f0-7d78-4be1-b3f0-94a34a27327d",
   "metadata": {},
   "outputs": [],
   "source": [
    "from copy import deepcopy\n",
    "from contextlib import suppress\n",
    "import numpy as np\n",
    "\n",
    "train_losses = []\n",
    "val_losses = []\n",
    "best_params = None\n",
    "for epoch in range(999):\n",
    "\n",
    "    #train\n",
    "    model.train()\n",
    "    running_loss = 0\n",
    "    for inputs, labels in train_loader:\n",
    "        outputs = model(inputs.to(device))\n",
    "        loss = criterion(outputs, labels.to(device)) #estimates loss of batch with current parameters\n",
    "        optimizer.zero_grad() #resets gradient to avoid accumulation\n",
    "        loss.backward() #computes gradient of loss w.r.t. parameters\n",
    "        optimizer.step() #updates parameters to reduce loss\n",
    "        running_loss += loss.item()\n",
    "    train_losses.append(running_loss/len(train_loader))\n",
    "    print(f'[epoch {epoch:03}] train loss: {train_losses[-1]:.4f}, ', end='')\n",
    "\n",
    "    #evaluate on validation set\n",
    "    model.eval()\n",
    "    running_loss = 0\n",
    "    with torch.inference_mode(): #to save memory and computations\n",
    "        for inputs, labels in val_loader:\n",
    "            outputs = model(inputs.to(device))\n",
    "            running_loss += criterion(outputs, labels.to(device)).item()\n",
    "    val_losses.append(running_loss/len(val_loader))\n",
    "\n",
    "    #back up best parameters\n",
    "    end = '\\n'\n",
    "    if val_losses[-1] <= min(val_losses):\n",
    "        best_params = deepcopy(model.state_dict())\n",
    "        end = ' (new best)\\n'\n",
    "    print(f'val loss: {val_losses[-1]:.4f}', end=end)\n",
    "\n",
    "    #stop early\n",
    "    patience = 3\n",
    "    with suppress(IndexError):\n",
    "        if all(np.array(val_losses[-patience:]) > val_losses[-patience-1]):\n",
    "            break"
   ]
  },
  {
   "cell_type": "code",
   "execution_count": null,
   "id": "bbb0929d-99dc-411b-81cf-562aecf08e1b",
   "metadata": {},
   "outputs": [],
   "source": [
    "import matplotlib.pyplot as plt\n",
    "\n",
    "#plot training history\n",
    "labels = {'t': 'Train MSE', 'v': 'Validation MSE'} if isinstance(criterion, nn.MSELoss) else None\n",
    "plt.plot(train_losses, label=labels['t'])\n",
    "plt.plot(val_losses, label=labels['v'])\n",
    "plt.legend()\n",
    "plt.xlabel('Epoch')\n",
    "_ = plt.ylabel('Mean loss')"
   ]
  },
  {
   "cell_type": "code",
   "execution_count": null,
   "id": "9025c9e0-296c-4842-abca-999c69a7facc",
   "metadata": {},
   "outputs": [],
   "source": [
    "import torch.nn.functional as F\n",
    "\n",
    "#evaluate on test set\n",
    "model.load_state_dict(best_params)\n",
    "assert not model.training\n",
    "running_loss = 0\n",
    "with torch.inference_mode():\n",
    "    for inputs, labels in test_loader:\n",
    "        outputs = model(inputs.to(device))\n",
    "        running_loss += F.l1_loss(outputs, labels.to(device)).item() #MAE for interpretability\n",
    "print(f'Mean absolute error on test set: {running_loss/len(test_loader):.4f}')"
   ]
  },
  {
   "cell_type": "code",
   "execution_count": null,
   "id": "d00ada90-03b8-4d59-9ead-70ca0d30ce1a",
   "metadata": {},
   "outputs": [],
   "source": [
    "#save best parameters\n",
    "param_dir = os.path.join('utils', 'model_params')\n",
    "os.makedirs(param_dir, exist_ok=True)\n",
    "param_path = os.path.join(param_dir, 'danceability.pth')\n",
    "torch.save(best_params, param_path)"
   ]
  },
  {
   "cell_type": "markdown",
   "id": "8271d88c-9d45-40fd-98da-ab4128c11b4c",
   "metadata": {},
   "source": [
    "# TODO\n",
    "* fai usage example dove istanzi modello e ottieni output (sistema e continua quello sotto)\n",
    "* poi testa anche su colab con gpu (e vedi se serve [questo](https://pytorch.org/tutorials/recipes/recipes/save_load_across_devices.html))"
   ]
  },
  {
   "cell_type": "code",
   "execution_count": null,
   "id": "d8b9c8e8-b513-4d2f-ad21-138e27be9064",
   "metadata": {},
   "outputs": [],
   "source": [
    "#load model (as usage example, to restore best parameters and to have it on CPU)\n",
    "model = DanceabilityModel(channels, height, width)\n",
    "model.eval() #disable training mode\n",
    "model.load_state_dict(torch.load(param_path))"
   ]
  },
  {
   "cell_type": "code",
   "execution_count": null,
   "id": "4f010ee9-14c1-4b7b-a284-9261705f4d30",
   "metadata": {},
   "outputs": [],
   "source": []
  }
 ],
 "metadata": {
  "kernelspec": {
   "display_name": "Python 3 (ipykernel)",
   "language": "python",
   "name": "python3"
  },
  "language_info": {
   "codemirror_mode": {
    "name": "ipython",
    "version": 3
   },
   "file_extension": ".py",
   "mimetype": "text/x-python",
   "name": "python",
   "nbconvert_exporter": "python",
   "pygments_lexer": "ipython3",
   "version": "3.11.5"
  }
 },
 "nbformat": 4,
 "nbformat_minor": 5
}
